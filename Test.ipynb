{
 "cells": [
  {
   "attachments": {},
   "cell_type": "markdown",
   "id": "cd42fe83-4868-4851-a06d-798fc332125c",
   "metadata": {},
   "source": [
    "## Un test!"
   ]
  },
  {
   "cell_type": "code",
   "execution_count": 1,
   "id": "c574662b-5901-4b46-8a04-128e119ef51b",
   "metadata": {},
   "outputs": [
    {
     "name": "stdout",
     "output_type": "stream",
     "text": [
      "Rabbits after 2 years\n",
      "Input initial number of rabbits:\n"
     ]
    },
    {
     "name": "stdout",
     "output_type": "stream",
     "text": [
      " 3\n"
     ]
    },
    {
     "name": "stdout",
     "output_type": "stream",
     "text": [
      "Input years:\n"
     ]
    },
    {
     "name": "stdout",
     "output_type": "stream",
     "text": [
      " 4\n"
     ]
    },
    {
     "name": "stdout",
     "output_type": "stream",
     "text": [
      "196608\n"
     ]
    }
   ],
   "source": [
    "print(\"Rabbits after 2 years\")\n",
    "print(\"Input initial number of rabbits:\")\n",
    "number_of_rabbits = int(input())\n",
    "print(\"Input years:\")\n",
    "years = int(input())\n",
    "doublings = 12 * years // 3\n",
    "\n",
    "print(number_of_rabbits * 2 ** doublings)"
   ]
  },
  {
   "cell_type": "code",
   "execution_count": 2,
   "id": "cbb72d57-0d03-4331-b519-2d1ffdea8c7b",
   "metadata": {},
   "outputs": [
    {
     "data": {
      "text/plain": [
       "True"
      ]
     },
     "execution_count": 2,
     "metadata": {},
     "output_type": "execute_result"
    }
   ],
   "source": [
    "False == 0"
   ]
  },
  {
   "cell_type": "code",
   "execution_count": 6,
   "id": "15e2aeb4-83e7-4c3e-9d2a-126f26d0c7fe",
   "metadata": {},
   "outputs": [
    {
     "data": {
      "text/plain": [
       "False"
      ]
     },
     "execution_count": 6,
     "metadata": {},
     "output_type": "execute_result"
    }
   ],
   "source": [
    "False == 0.0\n",
    "10 == 2\n",
    "1 == 3"
   ]
  },
  {
   "cell_type": "code",
   "execution_count": 7,
   "id": "aa4d5814-84b1-42f2-ad0b-6c8d90f4a98d",
   "metadata": {},
   "outputs": [
    {
     "name": "stdout",
     "output_type": "stream",
     "text": [
      "Do you want a drink with your meal? (yes or no):  yes\n"
     ]
    },
    {
     "name": "stdout",
     "output_type": "stream",
     "text": [
      "That will cost an extra £1.50\n",
      "Thank you! Enjoy your meal\n"
     ]
    }
   ],
   "source": [
    "wants_drink = input(\"Do you want a drink with your meal? (yes or no): \")\n",
    "if wants_drink == \"yes\":\n",
    "    print(\"That will cost an extra £1.50\")\n",
    "print(\"Thank you! Enjoy your meal\")"
   ]
  },
  {
   "cell_type": "code",
   "execution_count": 1,
   "id": "7769c91c-6ccb-4c8e-a6b8-c5297db71886",
   "metadata": {},
   "outputs": [
    {
     "name": "stdin",
     "output_type": "stream",
     "text": [
      "Enter a mark:  90\n"
     ]
    },
    {
     "name": "stdout",
     "output_type": "stream",
     "text": [
      "You got a first\n"
     ]
    }
   ],
   "source": [
    "mark = int(input(\"Enter a mark: \"))\n",
    "if mark >= 70:\n",
    "    print(\"You got a first\")\n",
    "elif mark >= 50 and mark < 70:\n",
    "    print(\"You got a second\")\n",
    "elif mark >= 40 and mark < 50:\n",
    "    print(\"You got a third\")\n",
    "else:\n",
    "    print(\"You failed!\")"
   ]
  },
  {
   "cell_type": "code",
   "execution_count": 4,
   "id": "a9ea5b3a-6b5e-4800-be81-ccec5e238524",
   "metadata": {},
   "outputs": [
    {
     "name": "stdin",
     "output_type": "stream",
     "text": [
      "Enter side A: 3\n",
      "Enter side B: 4\n",
      "Enter side C: 5\n"
     ]
    },
    {
     "name": "stdout",
     "output_type": "stream",
     "text": [
      "They form a right-angle triangle!\n"
     ]
    }
   ],
   "source": [
    "a = int(input('Enter side A:'))\n",
    "b = int(input('Enter side B:'))\n",
    "c = int(input('Enter side C:'))\n",
    "\n",
    "is_rectangle = (c ** 2 == a ** 2 + b ** 2)\n",
    "\n",
    "if (is_rectangle):\n",
    "    print('They form a right-angle triangle!')\n",
    "else:\n",
    "    print('They do not form a right-angle triangle')"
   ]
  },
  {
   "cell_type": "code",
   "execution_count": 5,
   "id": "9ccbd0d7-fcab-40ef-a710-d1587c20a567",
   "metadata": {},
   "outputs": [
    {
     "data": {
      "text/plain": [
       "3"
      ]
     },
     "execution_count": 5,
     "metadata": {},
     "output_type": "execute_result"
    }
   ],
   "source": [
    "x = 3\n",
    "++x"
   ]
  },
  {
   "cell_type": "code",
   "execution_count": 1,
   "id": "c14237db-7fe8-44ae-b670-ef99be14f75d",
   "metadata": {},
   "outputs": [
    {
     "name": "stdin",
     "output_type": "stream",
     "text": [
      "What is your weight in lbs?  30\n"
     ]
    },
    {
     "name": "stdout",
     "output_type": "stream",
     "text": [
      "Your weight is 13.6077 kg\n"
     ]
    }
   ],
   "source": [
    "weight = float(input(\"What is your weight in lbs? \"))\n",
    "print(\"Your weight is \" + str(weight * 0.45359) + \" kg\")"
   ]
  },
  {
   "cell_type": "code",
   "execution_count": 2,
   "id": "4c7e493c-f92b-4cb8-b6cb-56eeea51b449",
   "metadata": {},
   "outputs": [
    {
     "name": "stdout",
     "output_type": "stream",
     "text": [
      "John [Smith] is a coder\n"
     ]
    }
   ],
   "source": [
    "first = 'John'\n",
    "last = 'Smith'\n",
    "message = f'{first} [{last}] is a coder'\n",
    "print(message)"
   ]
  },
  {
   "cell_type": "code",
   "execution_count": 17,
   "id": "2b16222a-92b7-4f30-8cdf-695c9eeb70ab",
   "metadata": {},
   "outputs": [
    {
     "data": {
      "text/plain": [
       "'2'"
      ]
     },
     "execution_count": 17,
     "metadata": {},
     "output_type": "execute_result"
    }
   ],
   "source": [
    "import re\n",
    "course = 'John 2'\n",
    "rgx = re.compile('\\d')\n",
    "rgx.search(course).group()"
   ]
  },
  {
   "cell_type": "code",
   "execution_count": 22,
   "id": "69a50e62-7df9-496d-80dc-9af3d2818193",
   "metadata": {
    "scrolled": true
   },
   "outputs": [
    {
     "data": {
      "text/plain": [
       "['__doc__',\n",
       " '__file__',\n",
       " '__loader__',\n",
       " '__name__',\n",
       " '__package__',\n",
       " '__spec__',\n",
       " 'acos',\n",
       " 'acosh',\n",
       " 'asin',\n",
       " 'asinh',\n",
       " 'atan',\n",
       " 'atan2',\n",
       " 'atanh',\n",
       " 'cbrt',\n",
       " 'ceil',\n",
       " 'comb',\n",
       " 'copysign',\n",
       " 'cos',\n",
       " 'cosh',\n",
       " 'degrees',\n",
       " 'dist',\n",
       " 'e',\n",
       " 'erf',\n",
       " 'erfc',\n",
       " 'exp',\n",
       " 'exp2',\n",
       " 'expm1',\n",
       " 'fabs',\n",
       " 'factorial',\n",
       " 'floor',\n",
       " 'fmod',\n",
       " 'frexp',\n",
       " 'fsum',\n",
       " 'gamma',\n",
       " 'gcd',\n",
       " 'hypot',\n",
       " 'inf',\n",
       " 'isclose',\n",
       " 'isfinite',\n",
       " 'isinf',\n",
       " 'isnan',\n",
       " 'isqrt',\n",
       " 'lcm',\n",
       " 'ldexp',\n",
       " 'lgamma',\n",
       " 'log',\n",
       " 'log10',\n",
       " 'log1p',\n",
       " 'log2',\n",
       " 'modf',\n",
       " 'nan',\n",
       " 'nextafter',\n",
       " 'perm',\n",
       " 'pi',\n",
       " 'pow',\n",
       " 'prod',\n",
       " 'radians',\n",
       " 'remainder',\n",
       " 'sin',\n",
       " 'sinh',\n",
       " 'sqrt',\n",
       " 'tan',\n",
       " 'tanh',\n",
       " 'tau',\n",
       " 'trunc',\n",
       " 'ulp']"
      ]
     },
     "execution_count": 22,
     "metadata": {},
     "output_type": "execute_result"
    }
   ],
   "source": [
    "import math\n",
    "\n",
    "math.radians(260)\n",
    "range(3)\n",
    "dir(math)"
   ]
  },
  {
   "cell_type": "markdown",
   "id": "0e9e23eb-6263-4ca5-b23b-be168b57ccfb",
   "metadata": {},
   "source": [
    "* One thing\n",
    "* Then another\n",
    "* And a last one\n",
    "\n",
    "* $a \\ne o$"
   ]
  },
  {
   "cell_type": "code",
   "execution_count": 21,
   "id": "9ce543e3-d9f1-425d-ac48-88808a51da86",
   "metadata": {},
   "outputs": [
    {
     "name": "stdout",
     "output_type": "stream",
     "text": [
      "4\n"
     ]
    }
   ],
   "source": [
    "list = (1,2,3)\n",
    "x, y, z = list\n",
    "print(x+z)"
   ]
  },
  {
   "cell_type": "code",
   "execution_count": 22,
   "id": "cbead107-b46a-48c0-8c26-2876dff607ae",
   "metadata": {},
   "outputs": [
    {
     "name": "stdout",
     "output_type": "stream",
     "text": [
      "John Doe\n"
     ]
    }
   ],
   "source": [
    "def print_name(first, /,*, second):\n",
    "    print(first + ' ' + second)\n",
    "\n",
    "\n",
    "print_name('John', second='Doe')"
   ]
  },
  {
   "cell_type": "code",
   "execution_count": 23,
   "id": "49f4e6d8-4a9e-4bbd-842c-57086d51ac47",
   "metadata": {},
   "outputs": [
    {
     "name": "stdout",
     "output_type": "stream",
     "text": [
      "whoof\n",
      "Hello my name is Bob\n"
     ]
    }
   ],
   "source": [
    "\n",
    "class Person:\n",
    "    def __init__(self, name):\n",
    "        self.name = name\n",
    "    \n",
    "    def bark(self):\n",
    "        print('whoof')\n",
    "        \n",
    "    def talk(self):\n",
    "        self.bark()\n",
    "        print(f'Hello my name is {self.name}')\n",
    "\n",
    "bob = Person('Bob')\n",
    "bob.talk()"
   ]
  },
  {
   "cell_type": "code",
   "execution_count": 27,
   "id": "c49543e6-34a2-41b8-aece-bcbdb4cbd5e2",
   "metadata": {},
   "outputs": [
    {
     "data": {
      "text/plain": [
       "44.44444444444444"
      ]
     },
     "execution_count": 27,
     "metadata": {},
     "output_type": "execute_result"
    }
   ],
   "source": [
    "from converters import kg_to_lbs\n",
    "\n",
    "kg_to_lbs(20)"
   ]
  },
  {
   "cell_type": "code",
   "execution_count": null,
   "id": "f756a14b-3380-4e5b-8991-1be60f3f61e3",
   "metadata": {},
   "outputs": [],
   "source": []
  }
 ],
 "metadata": {
  "kernelspec": {
   "display_name": "Python 3 (ipykernel)",
   "language": "python",
   "name": "python3"
  },
  "language_info": {
   "codemirror_mode": {
    "name": "ipython",
    "version": 3
   },
   "file_extension": ".py",
   "mimetype": "text/x-python",
   "name": "python",
   "nbconvert_exporter": "python",
   "pygments_lexer": "ipython3",
   "version": "3.11.4"
  }
 },
 "nbformat": 4,
 "nbformat_minor": 5
}
