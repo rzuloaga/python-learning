{
 "cells": [
  {
   "cell_type": "markdown",
   "id": "d929375c-1994-487f-a344-be2c89703336",
   "metadata": {},
   "source": [
    "## Numpy\n",
    "\n",
    "I'm following the course at https://www.hackerearth.com/practice/machine-learning/data-manipulation-visualisation-r-python/tutorial-data-manipulation-numpy-pandas-python/tutorial/"
   ]
  },
  {
   "cell_type": "code",
   "execution_count": 1,
   "id": "d1eaa674-cc24-49f6-b5af-227790c5e37f",
   "metadata": {},
   "outputs": [
    {
     "data": {
      "text/plain": [
       "'1.25.0'"
      ]
     },
     "execution_count": 1,
     "metadata": {},
     "output_type": "execute_result"
    }
   ],
   "source": [
    "import numpy as np\n",
    "np.__version__"
   ]
  },
  {
   "cell_type": "code",
   "execution_count": 4,
   "id": "e71e5922-7968-45fb-9180-27d769c87fe2",
   "metadata": {},
   "outputs": [],
   "source": [
    "#create a list comprising numbers from 0 to 9\n",
    "L = list(range(10))"
   ]
  },
  {
   "cell_type": "code",
   "execution_count": 9,
   "id": "fe02c7bc-0773-427f-b9fc-1316662741b0",
   "metadata": {},
   "outputs": [
    {
     "name": "stdout",
     "output_type": "stream",
     "text": [
      "['0', '1', '2', '3', '4', '5', '6', '7', '8', '9']\n"
     ]
    },
    {
     "data": {
      "text/plain": [
       "[int, int, int, int, int, int, int, int, int, int]"
      ]
     },
     "execution_count": 9,
     "metadata": {},
     "output_type": "execute_result"
    }
   ],
   "source": [
    "#converting integers to string - this style of handling lists is known as list comprehension.\n",
    "#List comprehension offers a versatile way to handle list manipulations tasks easily. We'll learn about them in future tutorials. Here's an example.  \n",
    "\n",
    "print([str(c) for c in L])\n",
    "\n",
    "[type(item) for item in L]"
   ]
  },
  {
   "cell_type": "code",
   "execution_count": 32,
   "id": "ac7336a7-63d4-49c4-a7d7-917fb6612e76",
   "metadata": {},
   "outputs": [
    {
     "name": "stdout",
     "output_type": "stream",
     "text": [
      "x3 ndim: 3\n",
      "x3 shape: (3, 4, 5)\n",
      "x3 size:  60\n"
     ]
    },
    {
     "data": {
      "text/plain": [
       "array([[8, 1, 5, 9, 8],\n",
       "       [9, 4, 3, 0, 3],\n",
       "       [5, 0, 2, 3, 8],\n",
       "       [1, 3, 3, 3, 7]])"
      ]
     },
     "execution_count": 32,
     "metadata": {},
     "output_type": "execute_result"
    }
   ],
   "source": [
    "#creating arrays\n",
    "np.zeros(10, dtype='int')\n",
    "\n",
    "#creating a 3 row x 5 column matrix\n",
    "np.ones((3,5), dtype=float)\n",
    "\n",
    "#creating a matrix with a predefined value\n",
    "np.full((3,5), 1.23)\n",
    "\n",
    "#create an array with a set sequence\n",
    "np.arange(0, 20, 2)\n",
    "\n",
    "#create an array of even space between the given range of values\n",
    "np.linspace(0, 1, 5)\n",
    "\n",
    "#create a 3x3 array with mean 0 and standard deviation 1 in a given dimension\n",
    "np.random.normal(0, 1, (3,3))\n",
    "\n",
    "#create an identity matrix\n",
    "np.eye(3)\n",
    "\n",
    "#set a random seed\n",
    "np.random.seed(0)\n",
    "\n",
    "x1 = np.random.randint(10, size=6) #one dimension\n",
    "x2 = np.random.randint(10, size=(3,4)) #two dimension\n",
    "x3 = np.random.randint(10, size=(3,4,5)) #three dimension\n",
    "\n",
    "\n",
    "print(\"x3 ndim:\", x3.ndim)\n",
    "print(\"x3 shape:\", x3.shape)\n",
    "print(\"x3 size: \", x3.size)\n",
    "('x3 ndim:', 3)\n",
    "('x3 shape:', (3, 4, 5))\n",
    "('x3 size: ', 60)"
   ]
  },
  {
   "cell_type": "code",
   "execution_count": 35,
   "id": "a864fef8-c67b-4cb4-bd52-53ea58667f58",
   "metadata": {},
   "outputs": [
    {
     "data": {
      "text/plain": [
       "array([ 1,  2,  3,  3,  2,  1, 21, 21, 21])"
      ]
     },
     "execution_count": 35,
     "metadata": {},
     "output_type": "execute_result"
    }
   ],
   "source": [
    "x = np.array([1, 2, 3])\n",
    "y = np.array([3, 2, 1])\n",
    "z = [21,21,21]\n",
    "np.concatenate([x, y,z])"
   ]
  },
  {
   "cell_type": "code",
   "execution_count": 38,
   "id": "235c97af-136e-4d0e-9dd7-da0a303f1827",
   "metadata": {},
   "outputs": [
    {
     "name": "stdout",
     "output_type": "stream",
     "text": [
      "[[ 3  4  5]\n",
      " [ 1  2  3]\n",
      " [17 18 19]]\n",
      "[[ 1  2  3  9]\n",
      " [17 18 19  9]]\n"
     ]
    }
   ],
   "source": [
    "x = np.array([3,4,5])\n",
    "grid = np.array([[1,2,3],[17,18,19]])\n",
    "print(np.vstack([x,grid]))\n",
    "\n",
    "#Similarly, you can add an array using np.hstack\n",
    "z = np.array([[9],[9]])\n",
    "print(np.hstack([grid,z]))"
   ]
  },
  {
   "cell_type": "code",
   "execution_count": 42,
   "id": "3d9a322f-0b81-4ab4-ac89-024f54e09e72",
   "metadata": {},
   "outputs": [
    {
     "name": "stdout",
     "output_type": "stream",
     "text": [
      "[0 1 2] [3 4 5] [6 7 8 9]\n",
      "[[0 1 2 3]\n",
      " [4 5 6 7]] [[ 8  9 10 11]\n",
      " [12 13 14 15]]\n"
     ]
    }
   ],
   "source": [
    "x = np.arange(10)\n",
    "x\n",
    "\n",
    "\n",
    "x1,x2,x3 = np.split(x,[3,6])\n",
    "print (x1,x2,x3)\n",
    "\n",
    "grid = np.arange(16).reshape((4,4))\n",
    "grid\n",
    "upper,lower = np.vsplit(grid,[2])\n",
    "print (upper, lower)"
   ]
  },
  {
   "cell_type": "code",
   "execution_count": null,
   "id": "e531761e-94e3-43a9-a7d7-769342c28a9f",
   "metadata": {},
   "outputs": [],
   "source": []
  }
 ],
 "metadata": {
  "kernelspec": {
   "display_name": "Python 3 (ipykernel)",
   "language": "python",
   "name": "python3"
  },
  "language_info": {
   "codemirror_mode": {
    "name": "ipython",
    "version": 3
   },
   "file_extension": ".py",
   "mimetype": "text/x-python",
   "name": "python",
   "nbconvert_exporter": "python",
   "pygments_lexer": "ipython3",
   "version": "3.11.4"
  }
 },
 "nbformat": 4,
 "nbformat_minor": 5
}
