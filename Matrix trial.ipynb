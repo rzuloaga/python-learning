{
 "cells": [
  {
   "cell_type": "code",
   "execution_count": 9,
   "id": "d71610ed-aac9-44c9-bd6f-4b6f767458f8",
   "metadata": {},
   "outputs": [
    {
     "data": {
      "text/plain": [
       "6"
      ]
     },
     "execution_count": 9,
     "metadata": {},
     "output_type": "execute_result"
    }
   ],
   "source": [
    "import numpy as np\n",
    "from functools import reduce\n",
    "\n",
    "x_train = np.array([1.0, 1.7, 2.0, 2.5, 3.0, 3.2])\n",
    "y_train = np.array([250, 300, 480,  430,   630, 730,])"
   ]
  },
  {
   "cell_type": "code",
   "execution_count": 15,
   "id": "ca16c2cf-885e-4a78-936d-5e43111eae74",
   "metadata": {},
   "outputs": [
    {
     "data": {
      "text/plain": [
       "13.399999999999999"
      ]
     },
     "execution_count": 15,
     "metadata": {},
     "output_type": "execute_result"
    }
   ],
   "source": [
    "def t_param(x_arr, y_arr, i):\n",
    "    sum = 0\n",
    "    for n in range(len(x_arr)):\n",
    "        sum += y_arr[n] * x_arr[n] ** i\n",
    "\n",
    "    return sum\n",
    "\n",
    "def a_param(x_arr, i, j):\n",
    "    sum = 0\n",
    "    for n in range(len(x_arr)):\n",
    "        sum += x_arr[n] ** (i + j)\n",
    "\n",
    "    return sum"
   ]
  },
  {
   "cell_type": "code",
   "execution_count": 28,
   "id": "67c4c660-dac3-43fe-b168-d231396714c0",
   "metadata": {},
   "outputs": [
    {
     "data": {
      "text/plain": [
       "33.38"
      ]
     },
     "execution_count": 28,
     "metadata": {},
     "output_type": "execute_result"
    }
   ],
   "source": [
    "t_param(x_train, y_train, 1)\n",
    "a_param(x_train, 1, 1)"
   ]
  },
  {
   "cell_type": "code",
   "execution_count": null,
   "id": "f8e754d6-90cf-46ad-91fb-5c295b13a5b4",
   "metadata": {},
   "outputs": [],
   "source": []
  }
 ],
 "metadata": {
  "kernelspec": {
   "display_name": "Python 3 (ipykernel)",
   "language": "python",
   "name": "python3"
  },
  "language_info": {
   "codemirror_mode": {
    "name": "ipython",
    "version": 3
   },
   "file_extension": ".py",
   "mimetype": "text/x-python",
   "name": "python",
   "nbconvert_exporter": "python",
   "pygments_lexer": "ipython3",
   "version": "3.11.4"
  }
 },
 "nbformat": 4,
 "nbformat_minor": 5
}
